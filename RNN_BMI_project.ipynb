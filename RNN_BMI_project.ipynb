{
  "nbformat": 4,
  "nbformat_minor": 0,
  "metadata": {
    "colab": {
      "name": "RNN_BMI_project.ipynb",
      "provenance": [],
      "collapsed_sections": [],
      "include_colab_link": true
    },
    "kernelspec": {
      "name": "python3",
      "display_name": "Python 3"
    },
    "accelerator": "GPU"
  },
  "cells": [
    {
      "cell_type": "markdown",
      "metadata": {
        "id": "view-in-github",
        "colab_type": "text"
      },
      "source": [
        "<a href=\"https://colab.research.google.com/github/debplana/bmi707/blob/master/RNN_BMI_project.ipynb\" target=\"_parent\"><img src=\"https://colab.research.google.com/assets/colab-badge.svg\" alt=\"Open In Colab\"/></a>"
      ]
    },
    {
      "cell_type": "code",
      "metadata": {
        "id": "o6Ki8Gdtn39K",
        "colab_type": "code",
        "colab": {}
      },
      "source": [
        "# Dependencies\n",
        "import pandas as pd\n",
        "import numpy as np\n",
        "import tensorflow as tf\n",
        "from tensorflow.keras import Sequential, Model, layers\n",
        "from tensorflow.keras.layers import Dense, LSTM, Dropout\n",
        "from tensorflow.keras.optimizers import Adam\n"
      ],
      "execution_count": 0,
      "outputs": []
    },
    {
      "cell_type": "code",
      "metadata": {
        "id": "H0JDBb78oA2t",
        "colab_type": "code",
        "outputId": "e6f1c0ff-3b54-4c48-8738-aa733a34d879",
        "colab": {
          "base_uri": "https://localhost:8080/",
          "height": 717
        }
      },
      "source": [
        "!wget https://www.dropbox.com/s/neharvmmj5wkftk/train_controls_transformed.csv?dl=0\n",
        "!wget https://www.dropbox.com/s/l7ttj1jjd7rtwbp/train_cases_transformed.csv?dl=0"
      ],
      "execution_count": 0,
      "outputs": [
        {
          "output_type": "stream",
          "text": [
            "--2020-05-04 18:13:51--  https://www.dropbox.com/s/neharvmmj5wkftk/train_controls_transformed.csv?dl=0\n",
            "Resolving www.dropbox.com (www.dropbox.com)... 162.125.1.1, 2620:100:601b:1::a27d:801\n",
            "Connecting to www.dropbox.com (www.dropbox.com)|162.125.1.1|:443... connected.\n",
            "HTTP request sent, awaiting response... 301 Moved Permanently\n",
            "Location: /s/raw/neharvmmj5wkftk/train_controls_transformed.csv [following]\n",
            "--2020-05-04 18:13:52--  https://www.dropbox.com/s/raw/neharvmmj5wkftk/train_controls_transformed.csv\n",
            "Reusing existing connection to www.dropbox.com:443.\n",
            "HTTP request sent, awaiting response... 302 Found\n",
            "Location: https://uc29b0d9696cb009fde40b1bf51f.dl.dropboxusercontent.com/cd/0/inline/A3Gzj7m-JlbZeTKDiXKzPDrQ3PKFh4c6X7KbGznKkyZV9a8e_S6TF2hhHerGsoN1_pYGPesolaO3ZK2CYIge68LQFGji5_KMls2rCof9WvNim-U0Qnrce1GxkObaf9n-gnE/file# [following]\n",
            "--2020-05-04 18:13:52--  https://uc29b0d9696cb009fde40b1bf51f.dl.dropboxusercontent.com/cd/0/inline/A3Gzj7m-JlbZeTKDiXKzPDrQ3PKFh4c6X7KbGznKkyZV9a8e_S6TF2hhHerGsoN1_pYGPesolaO3ZK2CYIge68LQFGji5_KMls2rCof9WvNim-U0Qnrce1GxkObaf9n-gnE/file\n",
            "Resolving uc29b0d9696cb009fde40b1bf51f.dl.dropboxusercontent.com (uc29b0d9696cb009fde40b1bf51f.dl.dropboxusercontent.com)... 162.125.1.6, 2620:100:6016:6::a27d:106\n",
            "Connecting to uc29b0d9696cb009fde40b1bf51f.dl.dropboxusercontent.com (uc29b0d9696cb009fde40b1bf51f.dl.dropboxusercontent.com)|162.125.1.6|:443... connected.\n",
            "HTTP request sent, awaiting response... 200 OK\n",
            "Length: 1305335102 (1.2G) [text/plain]\n",
            "Saving to: ‘train_controls_transformed.csv?dl=0.1’\n",
            "\n",
            "train_controls_tran 100%[===================>]   1.21G  45.5MB/s    in 30s     \n",
            "\n",
            "2020-05-04 18:14:22 (42.1 MB/s) - ‘train_controls_transformed.csv?dl=0.1’ saved [1305335102/1305335102]\n",
            "\n",
            "--2020-05-04 18:14:23--  https://www.dropbox.com/s/l7ttj1jjd7rtwbp/train_cases_transformed.csv?dl=0\n",
            "Resolving www.dropbox.com (www.dropbox.com)... 162.125.8.1, 2620:100:6016:1::a27d:101\n",
            "Connecting to www.dropbox.com (www.dropbox.com)|162.125.8.1|:443... connected.\n",
            "HTTP request sent, awaiting response... 301 Moved Permanently\n",
            "Location: /s/raw/l7ttj1jjd7rtwbp/train_cases_transformed.csv [following]\n",
            "--2020-05-04 18:14:23--  https://www.dropbox.com/s/raw/l7ttj1jjd7rtwbp/train_cases_transformed.csv\n",
            "Reusing existing connection to www.dropbox.com:443.\n",
            "HTTP request sent, awaiting response... 302 Found\n",
            "Location: https://ucf59b2c968bd908051f2e920336.dl.dropboxusercontent.com/cd/0/inline/A3FOgWjyw6Jx8RQEtNxNAjjlYD3IcP4sNNwgj-mi1nGJ42bi9AvK5V61ahWXo0IjTTrJlSFqeXOmnI_EXNNBzcQgIP2xEkar__B3XQDEyMcGJ9VqO4862ft1rwIcEtmWnTg/file# [following]\n",
            "--2020-05-04 18:14:24--  https://ucf59b2c968bd908051f2e920336.dl.dropboxusercontent.com/cd/0/inline/A3FOgWjyw6Jx8RQEtNxNAjjlYD3IcP4sNNwgj-mi1nGJ42bi9AvK5V61ahWXo0IjTTrJlSFqeXOmnI_EXNNBzcQgIP2xEkar__B3XQDEyMcGJ9VqO4862ft1rwIcEtmWnTg/file\n",
            "Resolving ucf59b2c968bd908051f2e920336.dl.dropboxusercontent.com (ucf59b2c968bd908051f2e920336.dl.dropboxusercontent.com)... 162.125.1.6, 2620:100:6016:6::a27d:106\n",
            "Connecting to ucf59b2c968bd908051f2e920336.dl.dropboxusercontent.com (ucf59b2c968bd908051f2e920336.dl.dropboxusercontent.com)|162.125.1.6|:443... connected.\n",
            "HTTP request sent, awaiting response... 200 OK\n",
            "Length: 1306778108 (1.2G) [text/plain]\n",
            "Saving to: ‘train_cases_transformed.csv?dl=0.1’\n",
            "\n",
            "train_cases_transfo 100%[===================>]   1.22G  44.4MB/s    in 28s     \n",
            "\n",
            "2020-05-04 18:14:52 (44.3 MB/s) - ‘train_cases_transformed.csv?dl=0.1’ saved [1306778108/1306778108]\n",
            "\n"
          ],
          "name": "stdout"
        }
      ]
    },
    {
      "cell_type": "code",
      "metadata": {
        "id": "AFb5nlDTbDUY",
        "colab_type": "code",
        "outputId": "1ad7ef91-090c-4dc9-950b-fb3aeaf1ddb7",
        "colab": {
          "base_uri": "https://localhost:8080/",
          "height": 717
        }
      },
      "source": [
        "!wget https://www.dropbox.com/s/eqpxj42chflzfl4/holdout_cases_transformed.csv?dl=0\n",
        "!wget https://www.dropbox.com/s/f4zsvv2eeia5lbl/holdout_controls_transformed.csv?dl=0"
      ],
      "execution_count": 0,
      "outputs": [
        {
          "output_type": "stream",
          "text": [
            "--2020-05-04 18:14:53--  https://www.dropbox.com/s/eqpxj42chflzfl4/holdout_cases_transformed.csv?dl=0\n",
            "Resolving www.dropbox.com (www.dropbox.com)... 162.125.1.1, 2620:100:601b:1::a27d:801\n",
            "Connecting to www.dropbox.com (www.dropbox.com)|162.125.1.1|:443... connected.\n",
            "HTTP request sent, awaiting response... 301 Moved Permanently\n",
            "Location: /s/raw/eqpxj42chflzfl4/holdout_cases_transformed.csv [following]\n",
            "--2020-05-04 18:14:53--  https://www.dropbox.com/s/raw/eqpxj42chflzfl4/holdout_cases_transformed.csv\n",
            "Reusing existing connection to www.dropbox.com:443.\n",
            "HTTP request sent, awaiting response... 302 Found\n",
            "Location: https://uc634e7ca3bc51fbd71abe250b0e.dl.dropboxusercontent.com/cd/0/inline/A3G1Z7Hts6Y5Syp-1V4icKf8fHkWenfzrwfKDm7ihQTTrTUO_vWQte0yfJbjbmXjVcPZJTwr5ucLrHCJLhkGL1BS4NkqwBn754Qr4kVw8ZPq7JYRg2D0r7kMG_UztCZ6QoA/file# [following]\n",
            "--2020-05-04 18:14:53--  https://uc634e7ca3bc51fbd71abe250b0e.dl.dropboxusercontent.com/cd/0/inline/A3G1Z7Hts6Y5Syp-1V4icKf8fHkWenfzrwfKDm7ihQTTrTUO_vWQte0yfJbjbmXjVcPZJTwr5ucLrHCJLhkGL1BS4NkqwBn754Qr4kVw8ZPq7JYRg2D0r7kMG_UztCZ6QoA/file\n",
            "Resolving uc634e7ca3bc51fbd71abe250b0e.dl.dropboxusercontent.com (uc634e7ca3bc51fbd71abe250b0e.dl.dropboxusercontent.com)... 162.125.8.6, 2620:100:6016:6::a27d:106\n",
            "Connecting to uc634e7ca3bc51fbd71abe250b0e.dl.dropboxusercontent.com (uc634e7ca3bc51fbd71abe250b0e.dl.dropboxusercontent.com)|162.125.8.6|:443... connected.\n",
            "HTTP request sent, awaiting response... 200 OK\n",
            "Length: 325766317 (311M) [text/plain]\n",
            "Saving to: ‘holdout_cases_transformed.csv?dl=0.1’\n",
            "\n",
            "holdout_cases_trans 100%[===================>] 310.67M  40.3MB/s    in 8.7s    \n",
            "\n",
            "2020-05-04 18:15:03 (35.5 MB/s) - ‘holdout_cases_transformed.csv?dl=0.1’ saved [325766317/325766317]\n",
            "\n",
            "--2020-05-04 18:15:03--  https://www.dropbox.com/s/f4zsvv2eeia5lbl/holdout_controls_transformed.csv?dl=0\n",
            "Resolving www.dropbox.com (www.dropbox.com)... 162.125.1.1, 2620:100:601b:1::a27d:801\n",
            "Connecting to www.dropbox.com (www.dropbox.com)|162.125.1.1|:443... connected.\n",
            "HTTP request sent, awaiting response... 301 Moved Permanently\n",
            "Location: /s/raw/f4zsvv2eeia5lbl/holdout_controls_transformed.csv [following]\n",
            "--2020-05-04 18:15:04--  https://www.dropbox.com/s/raw/f4zsvv2eeia5lbl/holdout_controls_transformed.csv\n",
            "Reusing existing connection to www.dropbox.com:443.\n",
            "HTTP request sent, awaiting response... 302 Found\n",
            "Location: https://uca38be7ce9aa94c0635d1bda8ea.dl.dropboxusercontent.com/cd/0/inline/A3F558Hov81wkQ8ZQgg2JGNtAjj48gb0qztGZvsJeyYibk23ZstGbuVEX5vP_Cdx0MNjUwaBWIoI4F01QAkYolSwuCef8iV3oLoVdLRjJTJUJOrzfOv9FKCdjRUpDxhsmQg/file# [following]\n",
            "--2020-05-04 18:15:05--  https://uca38be7ce9aa94c0635d1bda8ea.dl.dropboxusercontent.com/cd/0/inline/A3F558Hov81wkQ8ZQgg2JGNtAjj48gb0qztGZvsJeyYibk23ZstGbuVEX5vP_Cdx0MNjUwaBWIoI4F01QAkYolSwuCef8iV3oLoVdLRjJTJUJOrzfOv9FKCdjRUpDxhsmQg/file\n",
            "Resolving uca38be7ce9aa94c0635d1bda8ea.dl.dropboxusercontent.com (uca38be7ce9aa94c0635d1bda8ea.dl.dropboxusercontent.com)... 162.125.8.6, 2620:100:601b:6::a27d:806\n",
            "Connecting to uca38be7ce9aa94c0635d1bda8ea.dl.dropboxusercontent.com (uca38be7ce9aa94c0635d1bda8ea.dl.dropboxusercontent.com)|162.125.8.6|:443... connected.\n",
            "HTTP request sent, awaiting response... 200 OK\n",
            "Length: 325708152 (311M) [text/plain]\n",
            "Saving to: ‘holdout_controls_transformed.csv?dl=0.1’\n",
            "\n",
            "holdout_controls_tr 100%[===================>] 310.62M  50.4MB/s    in 6.0s    \n",
            "\n",
            "2020-05-04 18:15:11 (51.5 MB/s) - ‘holdout_controls_transformed.csv?dl=0.1’ saved [325708152/325708152]\n",
            "\n"
          ],
          "name": "stdout"
        }
      ]
    },
    {
      "cell_type": "code",
      "metadata": {
        "id": "lR4tDMkmn99k",
        "colab_type": "code",
        "colab": {}
      },
      "source": [
        "# Load data\n",
        "colnames = pd.array(range(1,112321)) # The number of time intervals in the database\n",
        "train_cases = pd.read_csv('/content/train_cases_transformed.csv?dl=0', names = colnames, header = None)\n",
        "train_controls = pd.read_csv('/content/train_controls_transformed.csv?dl=0', names = colnames, header = None)"
      ],
      "execution_count": 0,
      "outputs": []
    },
    {
      "cell_type": "code",
      "metadata": {
        "id": "CfI4hQtobX3v",
        "colab_type": "code",
        "colab": {}
      },
      "source": [
        "# Load data\n",
        "colnames = pd.array(range(1,112321)) # The number of time intervals in the database\n",
        "test_cases = pd.read_csv('/content/holdout_cases_transformed.csv?dl=0', names = colnames, header = None)\n",
        "test_controls = pd.read_csv('/content/holdout_controls_transformed.csv?dl=0', names = colnames, header = None)"
      ],
      "execution_count": 0,
      "outputs": []
    },
    {
      "cell_type": "code",
      "metadata": {
        "id": "BMwNZN-On_oT",
        "colab_type": "code",
        "colab": {}
      },
      "source": [
        "# Creating labels\n",
        "zeros = pd.Series(np.zeros(694))\n",
        "ones = pd.Series(np.ones(694))\n",
        "y_train = zeros.append(ones)\n",
        "y_train = pd.DataFrame(data=y_train)\n",
        "#print(y_train)\n",
        "\n",
        "# Combine cases and controls\n",
        "x_train = pd.concat([train_controls, train_cases])\n",
        "#print(x_train)\n",
        "indexNamesArr = x_train.index.values\n",
        "#print(indexNamesArr)\n",
        "\n",
        "# Renaming labels\n",
        "y_train.index = [indexNamesArr]\n",
        "#print(y_train)\n",
        "\n",
        "# Downsampling\n",
        "x_train_reduced = x_train.groupby(np.arange(len(x_train.columns))//256, axis=1).mean()\n",
        "#print(x_train_reduced)\n",
        "\n",
        "# Scaling\n",
        "from sklearn.preprocessing import MinMaxScaler\n",
        "# create scaler\n",
        "scaler = MinMaxScaler()\n",
        "# fit and transform in one step\n",
        "x_train_norm = scaler.fit_transform(x_train_reduced)\n",
        "\n",
        "# Re-shaping data for the LSTM\n",
        "#print(x_train_reduced.shape)\n",
        "x_train_reshaped = x_train_norm.reshape(1388, -1, 1)\n",
        "#print(x_train_reshaped.shape)\n",
        "\n",
        "y_train_reshaped = np.asarray(y_train).astype('float32').reshape((-1,1))\n",
        "#print(y_train_reshaped)\n",
        "#print(y_train_reshaped.shape)"
      ],
      "execution_count": 0,
      "outputs": []
    },
    {
      "cell_type": "code",
      "metadata": {
        "id": "ZDoyq3IybjqJ",
        "colab_type": "code",
        "colab": {}
      },
      "source": [
        "# Creating labels\n",
        "zeros = pd.Series(np.zeros(173))\n",
        "ones = pd.Series(np.ones(173))\n",
        "y_test = zeros.append(ones)\n",
        "y_test = pd.DataFrame(data=y_test)\n",
        "#print(y_test)\n",
        "\n",
        "# Combine cases and controls\n",
        "x_test = pd.concat([test_controls, test_cases])\n",
        "#print(x_test)\n",
        "indexNamesArr = x_test.index.values\n",
        "#print(indexNamesArr)\n",
        "\n",
        "# Renaming labels\n",
        "y_test.index = [indexNamesArr]\n",
        "#print(y_test)\n",
        "\n",
        "# Downsampling\n",
        "x_test_reduced = x_test.groupby(np.arange(len(x_test.columns))//256, axis=1).mean()\n",
        "\n",
        "\n",
        "# Scaling\n",
        "from sklearn.preprocessing import MinMaxScaler\n",
        "# create scaler\n",
        "scaler = MinMaxScaler()\n",
        "# fit and transform in one step\n",
        "x_test_norm = scaler.fit_transform(x_test_reduced)\n",
        "#print(x_test_norm)\n",
        "# Re-shaping data for the LSTM\n",
        "#print(x_test_reduced.shape)\n",
        "x_test_reshaped = x_test_norm.reshape(346, -1, 1)\n",
        "#print(x_test_reshaped.shape)\n",
        "\n",
        "y_test_reshaped = np.asarray(y_test).astype('float32').reshape((-1,1))\n",
        "#print(y_test_reshaped)\n",
        "#print(y_test_reshaped.shape)"
      ],
      "execution_count": 0,
      "outputs": []
    },
    {
      "cell_type": "code",
      "metadata": {
        "id": "02xyUriTd76M",
        "colab_type": "code",
        "outputId": "0aa9b5de-e2cc-4911-da38-ff842bbd55e0",
        "colab": {
          "base_uri": "https://localhost:8080/",
          "height": 34
        }
      },
      "source": [
        "# convert the categories to one-hot encoding\n",
        "from keras.utils import np_utils\n",
        "\n",
        "y_train_reshaped = np_utils.to_categorical(y_train_reshaped, 2)\n",
        "y_test_reshaped = np_utils.to_categorical(y_test_reshaped, 2)"
      ],
      "execution_count": 0,
      "outputs": [
        {
          "output_type": "stream",
          "text": [
            "Using TensorFlow backend.\n"
          ],
          "name": "stderr"
        }
      ]
    },
    {
      "cell_type": "code",
      "metadata": {
        "id": "OvhjKty4w4Ym",
        "colab_type": "code",
        "outputId": "002b03d4-d4a9-4e2c-f19c-a49c1bb4f410",
        "colab": {
          "base_uri": "https://localhost:8080/",
          "height": 663
        }
      },
      "source": [
        "from keras import backend as K\n",
        "# Model\n",
        "def evaluate_model(trainX, trainy, testX, testy):\n",
        "  verbose, epochs, batch_size = 1, 10, 64\n",
        "\n",
        "  model = Sequential()\n",
        "  model.add(layers.LSTM(units=100, return_sequences=True, input_shape=(x_train_reshaped.shape[1],1)))\n",
        "  model.add(layers.LSTM(units=100))\n",
        "  model.add(Dropout(0.1))\n",
        "  model.add(Dense(50, activation='relu'))\n",
        "  model.add(Dense(2, activation='sigmoid'))\n",
        "  model.summary()\n",
        "  opt = Adam(lr=0.0001)\n",
        "  inter_output_model = Model(model.input, model.get_layer(index = 4).output )\n",
        "  inter_output = inter_output_model.predict(trainX)\n",
        "  # Compile\n",
        "  model.compile(loss='binary_crossentropy', optimizer=opt, metrics=['acc'])\n",
        "  # fit network\n",
        "  model.fit(trainX, trainy, validation_split=0.9, epochs=epochs, batch_size=batch_size, verbose=verbose)\n",
        "  # evaluate model\n",
        "  _, accuracy = model.evaluate(testX, testy, batch_size=batch_size, verbose=0)\n",
        "  \n",
        "  return inter_output\n",
        "\n",
        "inter_output = evaluate_model(x_train_reshaped, y_train_reshaped, x_test_reshaped, y_test_reshaped)\n"
      ],
      "execution_count": 0,
      "outputs": [
        {
          "output_type": "stream",
          "text": [
            "Model: \"sequential_58\"\n",
            "_________________________________________________________________\n",
            "Layer (type)                 Output Shape              Param #   \n",
            "=================================================================\n",
            "lstm_96 (LSTM)               (None, 439, 100)          40800     \n",
            "_________________________________________________________________\n",
            "lstm_97 (LSTM)               (None, 100)               80400     \n",
            "_________________________________________________________________\n",
            "dropout_56 (Dropout)         (None, 100)               0         \n",
            "_________________________________________________________________\n",
            "dense_112 (Dense)            (None, 50)                5050      \n",
            "_________________________________________________________________\n",
            "dense_113 (Dense)            (None, 2)                 102       \n",
            "=================================================================\n",
            "Total params: 126,352\n",
            "Trainable params: 126,352\n",
            "Non-trainable params: 0\n",
            "_________________________________________________________________\n",
            "Epoch 1/10\n",
            "3/3 [==============================] - 3s 1s/step - loss: 0.6929 - acc: 0.9638 - val_loss: 0.6932 - val_acc: 0.4448\n",
            "Epoch 2/10\n",
            "3/3 [==============================] - 1s 491ms/step - loss: 0.6929 - acc: 1.0000 - val_loss: 0.6932 - val_acc: 0.4448\n",
            "Epoch 3/10\n",
            "3/3 [==============================] - 1s 492ms/step - loss: 0.6928 - acc: 1.0000 - val_loss: 0.6932 - val_acc: 0.4448\n",
            "Epoch 4/10\n",
            "3/3 [==============================] - 1s 460ms/step - loss: 0.6926 - acc: 1.0000 - val_loss: 0.6932 - val_acc: 0.4448\n",
            "Epoch 5/10\n",
            "3/3 [==============================] - 1s 463ms/step - loss: 0.6925 - acc: 1.0000 - val_loss: 0.6932 - val_acc: 0.4448\n",
            "Epoch 6/10\n",
            "3/3 [==============================] - 1s 446ms/step - loss: 0.6923 - acc: 1.0000 - val_loss: 0.6933 - val_acc: 0.4448\n",
            "Epoch 7/10\n",
            "3/3 [==============================] - 1s 450ms/step - loss: 0.6922 - acc: 1.0000 - val_loss: 0.6933 - val_acc: 0.4448\n",
            "Epoch 8/10\n",
            "3/3 [==============================] - 1s 436ms/step - loss: 0.6920 - acc: 1.0000 - val_loss: 0.6933 - val_acc: 0.4448\n",
            "Epoch 9/10\n",
            "3/3 [==============================] - 1s 421ms/step - loss: 0.6919 - acc: 1.0000 - val_loss: 0.6933 - val_acc: 0.4448\n",
            "Epoch 10/10\n",
            "3/3 [==============================] - 1s 424ms/step - loss: 0.6917 - acc: 1.0000 - val_loss: 0.6933 - val_acc: 0.4448\n"
          ],
          "name": "stdout"
        }
      ]
    },
    {
      "cell_type": "code",
      "metadata": {
        "id": "GDPscM35PJvW",
        "colab_type": "code",
        "outputId": "06d21362-b30b-4e24-f8d9-1537f6de1614",
        "colab": {
          "base_uri": "https://localhost:8080/",
          "height": 136
        }
      },
      "source": [
        "print(inter_output)"
      ],
      "execution_count": 0,
      "outputs": [
        {
          "output_type": "stream",
          "text": [
            "[[0.5007074  0.5003023 ]\n",
            " [0.500642   0.50033504]\n",
            " [0.50085604 0.50036365]\n",
            " ...\n",
            " [0.501092   0.50042695]\n",
            " [0.50043356 0.50016505]\n",
            " [0.50107765 0.50043464]]\n"
          ],
          "name": "stdout"
        }
      ]
    },
    {
      "cell_type": "code",
      "metadata": {
        "id": "T-zREmWMylQ-",
        "colab_type": "code",
        "outputId": "9efd9a1d-e3d9-4106-87cc-4daacac596ac",
        "colab": {
          "base_uri": "https://localhost:8080/",
          "height": 181
        }
      },
      "source": [
        "# Visualizing the model\n",
        "from tensorflow.keras.utils import plot_model\n",
        "plot_model(model, to_file='model_plot.png', show_shapes=True, show_layer_names=True)"
      ],
      "execution_count": 0,
      "outputs": [
        {
          "output_type": "error",
          "ename": "NameError",
          "evalue": "ignored",
          "traceback": [
            "\u001b[0;31m---------------------------------------------------------------------------\u001b[0m",
            "\u001b[0;31mNameError\u001b[0m                                 Traceback (most recent call last)",
            "\u001b[0;32m<ipython-input-12-0625bc942cdb>\u001b[0m in \u001b[0;36m<module>\u001b[0;34m()\u001b[0m\n\u001b[1;32m      1\u001b[0m \u001b[0;32mfrom\u001b[0m \u001b[0mtensorflow\u001b[0m\u001b[0;34m.\u001b[0m\u001b[0mkeras\u001b[0m\u001b[0;34m.\u001b[0m\u001b[0mutils\u001b[0m \u001b[0;32mimport\u001b[0m \u001b[0mplot_model\u001b[0m\u001b[0;34m\u001b[0m\u001b[0;34m\u001b[0m\u001b[0m\n\u001b[0;32m----> 2\u001b[0;31m \u001b[0mplot_model\u001b[0m\u001b[0;34m(\u001b[0m\u001b[0mmodel\u001b[0m\u001b[0;34m,\u001b[0m \u001b[0mto_file\u001b[0m\u001b[0;34m=\u001b[0m\u001b[0;34m'model_plot.png'\u001b[0m\u001b[0;34m,\u001b[0m \u001b[0mshow_shapes\u001b[0m\u001b[0;34m=\u001b[0m\u001b[0;32mTrue\u001b[0m\u001b[0;34m,\u001b[0m \u001b[0mshow_layer_names\u001b[0m\u001b[0;34m=\u001b[0m\u001b[0;32mTrue\u001b[0m\u001b[0;34m)\u001b[0m\u001b[0;34m\u001b[0m\u001b[0;34m\u001b[0m\u001b[0m\n\u001b[0m",
            "\u001b[0;31mNameError\u001b[0m: name 'model' is not defined"
          ]
        }
      ]
    }
  ]
}