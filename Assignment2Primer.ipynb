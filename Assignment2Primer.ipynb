{
  "nbformat": 4,
  "nbformat_minor": 0,
  "metadata": {
    "colab": {
      "name": "Assignment2Primer.ipynb",
      "provenance": [],
      "collapsed_sections": [],
      "include_colab_link": true
    },
    "kernelspec": {
      "name": "python3",
      "display_name": "Python 3"
    },
    "accelerator": "GPU"
  },
  "cells": [
    {
      "cell_type": "markdown",
      "metadata": {
        "id": "view-in-github",
        "colab_type": "text"
      },
      "source": [
        "<a href=\"https://colab.research.google.com/github/debplana/bmi707/blob/master/Assignment2Primer.ipynb\" target=\"_parent\"><img src=\"https://colab.research.google.com/assets/colab-badge.svg\" alt=\"Open In Colab\"/></a>"
      ]
    },
    {
      "cell_type": "markdown",
      "metadata": {
        "id": "teqvjOhUwu05",
        "colab_type": "text"
      },
      "source": [
        "# Assignment 2 Primer\n",
        "\n",
        "Modified from BMI707 2017-2018 Assignment 2 Primer\n",
        "\n",
        "\n",
        "**Before running anything go to Edit -> Notebook Settings and select GPU under accelerator**\n"
      ]
    },
    {
      "cell_type": "markdown",
      "metadata": {
        "id": "R4x4FI_rAnZ9",
        "colab_type": "text"
      },
      "source": [
        "First, we will download the training and validation datasets."
      ]
    },
    {
      "cell_type": "code",
      "metadata": {
        "id": "DCYzLqXUwba7",
        "colab_type": "code",
        "outputId": "ea504718-e307-41c7-afc1-8f40ad661dcb",
        "colab": {
          "base_uri": "https://localhost:8080/",
          "height": 1000
        }
      },
      "source": [
        "# use wget to download the datasets\n",
        "!wget https://www.dropbox.com/sh/ojiw79q8786ua4x/AAClFIGmvlcD3yfvpBt4PCFpa/converted_to_RGB/train.tar\n",
        "!wget https://www.dropbox.com/sh/ojiw79q8786ua4x/AACRvZFmEalGP26MHlH34dY8a/converted_to_RGB/val.tar\n",
        "!wget https://www.dropbox.com/s/0kxwsuqt6srghe0/train.csv\n",
        "!wget https://www.dropbox.com/s/ro24kdycm4cmmmh/val.csv"
      ],
      "execution_count": 0,
      "outputs": [
        {
          "output_type": "stream",
          "text": [
            "--2020-04-07 20:14:31--  https://www.dropbox.com/sh/ojiw79q8786ua4x/AAClFIGmvlcD3yfvpBt4PCFpa/converted_to_RGB/train.tar\n",
            "Resolving www.dropbox.com (www.dropbox.com)... 162.125.81.1, 2620:100:6031:1::a27d:5101\n",
            "Connecting to www.dropbox.com (www.dropbox.com)|162.125.81.1|:443... connected.\n",
            "HTTP request sent, awaiting response... 301 Moved Permanently\n",
            "Location: /sh/raw/ojiw79q8786ua4x/AAClFIGmvlcD3yfvpBt4PCFpa/converted_to_RGB/train.tar [following]\n",
            "--2020-04-07 20:14:32--  https://www.dropbox.com/sh/raw/ojiw79q8786ua4x/AAClFIGmvlcD3yfvpBt4PCFpa/converted_to_RGB/train.tar\n",
            "Reusing existing connection to www.dropbox.com:443.\n",
            "HTTP request sent, awaiting response... 302 Found\n",
            "Location: https://ucab3b8a2a7d314cd9630632fa24.dl.dropboxusercontent.com/cd/0/inline/A1YQ6nhDTUe1Id4I-CFIMBp7qGn49O6xdh_O4xVj6ITwu8r6vUZRag2Jjk-5iR0kwrudpSmYDNMf6ahJPoyo5zKFxk64qI-fam8dptPkyw7Xpw/file# [following]\n",
            "--2020-04-07 20:14:32--  https://ucab3b8a2a7d314cd9630632fa24.dl.dropboxusercontent.com/cd/0/inline/A1YQ6nhDTUe1Id4I-CFIMBp7qGn49O6xdh_O4xVj6ITwu8r6vUZRag2Jjk-5iR0kwrudpSmYDNMf6ahJPoyo5zKFxk64qI-fam8dptPkyw7Xpw/file\n",
            "Resolving ucab3b8a2a7d314cd9630632fa24.dl.dropboxusercontent.com (ucab3b8a2a7d314cd9630632fa24.dl.dropboxusercontent.com)... 162.125.81.6, 2620:100:601b:6::a27d:806\n",
            "Connecting to ucab3b8a2a7d314cd9630632fa24.dl.dropboxusercontent.com (ucab3b8a2a7d314cd9630632fa24.dl.dropboxusercontent.com)|162.125.81.6|:443... connected.\n",
            "HTTP request sent, awaiting response... 302 FOUND\n",
            "Location: /cd/0/inline2/A1Yfg3MbVOhXznh5qgtWQymAl4DV0w_9baRpoa3LopgH3Rl1d15KbTFQq4Jzq6gPUdMKye3AtYEQllOeDeHtRJ0-ezjzXhnk-WNHMPCmFrmDDR2Zg8kUs4VM5gEpRiYDDdlx1F5k1n0vHMaG0CGWQN7xZZnfbCXqpXXwDHDyQQO-qbm2SbnFPm2CPMVA9L5T4OTIzzWdPpyIqMDe1hmKIw41I7r7SG7069APTdmS2FsA8sQOK2HX23hSe0iuva0o_BFtP8Supn3j-9ZBMn-ErlIjD4w_YNcn4pRIrJi2g14zqeByXuu8aexwPiJMBAqleg5OsNb4mYTxeW844H9luwdh/file [following]\n",
            "--2020-04-07 20:14:33--  https://ucab3b8a2a7d314cd9630632fa24.dl.dropboxusercontent.com/cd/0/inline2/A1Yfg3MbVOhXznh5qgtWQymAl4DV0w_9baRpoa3LopgH3Rl1d15KbTFQq4Jzq6gPUdMKye3AtYEQllOeDeHtRJ0-ezjzXhnk-WNHMPCmFrmDDR2Zg8kUs4VM5gEpRiYDDdlx1F5k1n0vHMaG0CGWQN7xZZnfbCXqpXXwDHDyQQO-qbm2SbnFPm2CPMVA9L5T4OTIzzWdPpyIqMDe1hmKIw41I7r7SG7069APTdmS2FsA8sQOK2HX23hSe0iuva0o_BFtP8Supn3j-9ZBMn-ErlIjD4w_YNcn4pRIrJi2g14zqeByXuu8aexwPiJMBAqleg5OsNb4mYTxeW844H9luwdh/file\n",
            "Reusing existing connection to ucab3b8a2a7d314cd9630632fa24.dl.dropboxusercontent.com:443.\n",
            "HTTP request sent, awaiting response... 200 OK\n",
            "Length: 1117409280 (1.0G) [application/x-tar]\n",
            "Saving to: ‘train.tar’\n",
            "\n",
            "train.tar           100%[===================>]   1.04G  4.83MB/s    in 3m 34s  \n",
            "\n",
            "2020-04-07 20:18:08 (4.98 MB/s) - ‘train.tar’ saved [1117409280/1117409280]\n",
            "\n",
            "--2020-04-07 20:18:10--  https://www.dropbox.com/sh/ojiw79q8786ua4x/AACRvZFmEalGP26MHlH34dY8a/converted_to_RGB/val.tar\n",
            "Resolving www.dropbox.com (www.dropbox.com)... 162.125.8.1, 2620:100:6031:1::a27d:5101\n",
            "Connecting to www.dropbox.com (www.dropbox.com)|162.125.8.1|:443... connected.\n",
            "HTTP request sent, awaiting response... 301 Moved Permanently\n",
            "Location: /sh/raw/ojiw79q8786ua4x/AACRvZFmEalGP26MHlH34dY8a/converted_to_RGB/val.tar [following]\n",
            "--2020-04-07 20:18:11--  https://www.dropbox.com/sh/raw/ojiw79q8786ua4x/AACRvZFmEalGP26MHlH34dY8a/converted_to_RGB/val.tar\n",
            "Reusing existing connection to www.dropbox.com:443.\n",
            "HTTP request sent, awaiting response... 302 Found\n",
            "Location: https://uc84efe432f0de2c736afcd3abf6.dl.dropboxusercontent.com/cd/0/inline/A1bKEG0SqcQtspx2DznnyRWvKO6I2ylCV3QXokDEnJ3wfU449k94_bMIJ7gtBG3e5fdOMD6b9GeNieuS1vDH0BKwFso798TYcX6IHy6cTN1v5Q/file# [following]\n",
            "--2020-04-07 20:18:12--  https://uc84efe432f0de2c736afcd3abf6.dl.dropboxusercontent.com/cd/0/inline/A1bKEG0SqcQtspx2DznnyRWvKO6I2ylCV3QXokDEnJ3wfU449k94_bMIJ7gtBG3e5fdOMD6b9GeNieuS1vDH0BKwFso798TYcX6IHy6cTN1v5Q/file\n",
            "Resolving uc84efe432f0de2c736afcd3abf6.dl.dropboxusercontent.com (uc84efe432f0de2c736afcd3abf6.dl.dropboxusercontent.com)... 162.125.81.6, 2620:100:6031:6::a27d:5106\n",
            "Connecting to uc84efe432f0de2c736afcd3abf6.dl.dropboxusercontent.com (uc84efe432f0de2c736afcd3abf6.dl.dropboxusercontent.com)|162.125.81.6|:443... connected.\n",
            "HTTP request sent, awaiting response... 302 FOUND\n",
            "Location: /cd/0/inline2/A1Y1yLqZwRoK6MT6LFgy4NAzLQ9nMgrhQ1iZ-in-h76CYiLJD1bJph4O_sczeggfGuUK6ZZ5RcV_mL7HXY2GIjaKE-9RrWKd5C5ygJDmv6P1qlLSZ9b4N7CJqOEYoqRU5Z8-4-KJvdIh8_4FYDBXoZUWoYi51a9-_rmUVqPBoeO0QEMEC-7c8XNPWt3YDJxYhDtxxU7Noboyo7JhZbESzdSmfq39q3eq604mQtbBiAfrejwRsk4vUw77jL-L1xYuAu_cpFquSYIUZ0bRPTO9rI4of0afEJKv3dVFzxPFaw2M9RKcNwZXB7DPcaBAxiyjOAUyZeFKl6l0GGRvc8rSnS59/file [following]\n",
            "--2020-04-07 20:18:13--  https://uc84efe432f0de2c736afcd3abf6.dl.dropboxusercontent.com/cd/0/inline2/A1Y1yLqZwRoK6MT6LFgy4NAzLQ9nMgrhQ1iZ-in-h76CYiLJD1bJph4O_sczeggfGuUK6ZZ5RcV_mL7HXY2GIjaKE-9RrWKd5C5ygJDmv6P1qlLSZ9b4N7CJqOEYoqRU5Z8-4-KJvdIh8_4FYDBXoZUWoYi51a9-_rmUVqPBoeO0QEMEC-7c8XNPWt3YDJxYhDtxxU7Noboyo7JhZbESzdSmfq39q3eq604mQtbBiAfrejwRsk4vUw77jL-L1xYuAu_cpFquSYIUZ0bRPTO9rI4of0afEJKv3dVFzxPFaw2M9RKcNwZXB7DPcaBAxiyjOAUyZeFKl6l0GGRvc8rSnS59/file\n",
            "Reusing existing connection to uc84efe432f0de2c736afcd3abf6.dl.dropboxusercontent.com:443.\n",
            "HTTP request sent, awaiting response... 200 OK\n",
            "Length: 278968320 (266M) [application/x-tar]\n",
            "Saving to: ‘val.tar’\n",
            "\n",
            "val.tar             100%[===================>] 266.04M  4.75MB/s    in 52s     \n",
            "\n",
            "2020-04-07 20:19:05 (5.13 MB/s) - ‘val.tar’ saved [278968320/278968320]\n",
            "\n",
            "--2020-04-07 20:19:07--  https://www.dropbox.com/s/0kxwsuqt6srghe0/train.csv\n",
            "Resolving www.dropbox.com (www.dropbox.com)... 162.125.81.1, 2620:100:6031:1::a27d:5101\n",
            "Connecting to www.dropbox.com (www.dropbox.com)|162.125.81.1|:443... connected.\n",
            "HTTP request sent, awaiting response... 301 Moved Permanently\n",
            "Location: /s/raw/0kxwsuqt6srghe0/train.csv [following]\n",
            "--2020-04-07 20:19:08--  https://www.dropbox.com/s/raw/0kxwsuqt6srghe0/train.csv\n",
            "Reusing existing connection to www.dropbox.com:443.\n",
            "HTTP request sent, awaiting response... 302 Found\n",
            "Location: https://uce2a7f472543aaa079a4f9a9691.dl.dropboxusercontent.com/cd/0/inline/A1ZpPoTBaf39FX-KK1WmsjFyY1i9NHkkSE3U5JSu37nf_TdYNb5mkeWfRx3mf9r_3EBA-tFnQ7Gh_2wAIz0AIvlEqZbEMkIHT2XIfzXfVOfDUA/file# [following]\n",
            "--2020-04-07 20:19:08--  https://uce2a7f472543aaa079a4f9a9691.dl.dropboxusercontent.com/cd/0/inline/A1ZpPoTBaf39FX-KK1WmsjFyY1i9NHkkSE3U5JSu37nf_TdYNb5mkeWfRx3mf9r_3EBA-tFnQ7Gh_2wAIz0AIvlEqZbEMkIHT2XIfzXfVOfDUA/file\n",
            "Resolving uce2a7f472543aaa079a4f9a9691.dl.dropboxusercontent.com (uce2a7f472543aaa079a4f9a9691.dl.dropboxusercontent.com)... 162.125.81.6, 2620:100:601b:6::a27d:806\n",
            "Connecting to uce2a7f472543aaa079a4f9a9691.dl.dropboxusercontent.com (uce2a7f472543aaa079a4f9a9691.dl.dropboxusercontent.com)|162.125.81.6|:443... connected.\n",
            "HTTP request sent, awaiting response... 200 OK\n",
            "Length: 52501 (51K) [text/plain]\n",
            "Saving to: ‘train.csv’\n",
            "\n",
            "train.csv           100%[===================>]  51.27K   268KB/s    in 0.2s    \n",
            "\n",
            "2020-04-07 20:19:09 (268 KB/s) - ‘train.csv’ saved [52501/52501]\n",
            "\n",
            "--2020-04-07 20:19:11--  https://www.dropbox.com/s/ro24kdycm4cmmmh/val.csv\n",
            "Resolving www.dropbox.com (www.dropbox.com)... 162.125.81.1, 2620:100:6031:1::a27d:5101\n",
            "Connecting to www.dropbox.com (www.dropbox.com)|162.125.81.1|:443... connected.\n",
            "HTTP request sent, awaiting response... 301 Moved Permanently\n",
            "Location: /s/raw/ro24kdycm4cmmmh/val.csv [following]\n",
            "--2020-04-07 20:19:12--  https://www.dropbox.com/s/raw/ro24kdycm4cmmmh/val.csv\n",
            "Reusing existing connection to www.dropbox.com:443.\n",
            "HTTP request sent, awaiting response... 302 Found\n",
            "Location: https://ucdf94458f2c123545d7ac306088.dl.dropboxusercontent.com/cd/0/inline/A1b5om3mieXXnVyeGEojD6bsvQXnjaETlKM9bj2DYumyrNhzvbF9TORm-EKKHmRkEcxa1LRrdfCZVcvgdfSd0Vrv6fh8xTc7qczr1xFvBLMlNA/file# [following]\n",
            "--2020-04-07 20:19:12--  https://ucdf94458f2c123545d7ac306088.dl.dropboxusercontent.com/cd/0/inline/A1b5om3mieXXnVyeGEojD6bsvQXnjaETlKM9bj2DYumyrNhzvbF9TORm-EKKHmRkEcxa1LRrdfCZVcvgdfSd0Vrv6fh8xTc7qczr1xFvBLMlNA/file\n",
            "Resolving ucdf94458f2c123545d7ac306088.dl.dropboxusercontent.com (ucdf94458f2c123545d7ac306088.dl.dropboxusercontent.com)... 162.125.81.6, 2620:100:601b:6::a27d:806\n",
            "Connecting to ucdf94458f2c123545d7ac306088.dl.dropboxusercontent.com (ucdf94458f2c123545d7ac306088.dl.dropboxusercontent.com)|162.125.81.6|:443... connected.\n",
            "HTTP request sent, awaiting response... 200 OK\n",
            "Length: 13109 (13K) [text/plain]\n",
            "Saving to: ‘val.csv’\n",
            "\n",
            "val.csv             100%[===================>]  12.80K  --.-KB/s    in 0s      \n",
            "\n",
            "2020-04-07 20:19:13 (351 MB/s) - ‘val.csv’ saved [13109/13109]\n",
            "\n"
          ],
          "name": "stdout"
        }
      ]
    },
    {
      "cell_type": "markdown",
      "metadata": {
        "id": "UgVEGuKOw5W2",
        "colab_type": "text"
      },
      "source": [
        "Next, we will decompress the downloaded tar files."
      ]
    },
    {
      "cell_type": "code",
      "metadata": {
        "id": "5o99LYU8w9j-",
        "colab_type": "code",
        "colab": {}
      },
      "source": [
        "# decompress the tar files\n",
        "!tar -xf train.tar\n",
        "!tar -xf val.tar\n",
        "!rm *tar*"
      ],
      "execution_count": 0,
      "outputs": []
    },
    {
      "cell_type": "markdown",
      "metadata": {
        "id": "rtTgmc5dxXyu",
        "colab_type": "text"
      },
      "source": [
        "Now we have two directories *train* and *val* that contain the images. Let's loop through and read them into numpy arrays."
      ]
    },
    {
      "cell_type": "code",
      "metadata": {
        "id": "1heENpArxjsD",
        "colab_type": "code",
        "colab": {}
      },
      "source": [
        "from PIL import Image\n",
        "import numpy as np\n",
        "import pandas as pd\n",
        "import os\n",
        "\n",
        "# read in the labels\n",
        "train_labels = pd.read_csv('train.csv',  header=None, index_col=0)\n",
        "val_labels = pd.read_csv('val.csv',  header=None, index_col=0)\n",
        "\n",
        "# we will resize the images to make them smaller\n",
        "# feel free to adjust this step in your assignment submission\n",
        "image_size = (96,96)\n",
        "\n",
        "\n",
        "# read in the training images\n",
        "train_images = []\n",
        "train_dir = './train/'\n",
        "train_files = os.listdir(train_dir)\n",
        "for f in train_files:\n",
        "  img = Image.open(train_dir + f)\n",
        "  img = img.resize(image_size)\n",
        "  img_arr = np.array(img)\n",
        "  train_images.append(img_arr)\n",
        "\n",
        "train_X = np.array(train_images)\n",
        "\n",
        "# read in the val images\n",
        "val_images = []\n",
        "val_dir = './val/'\n",
        "val_files = os.listdir(val_dir)\n",
        "for f in val_files:\n",
        "  img = Image.open(val_dir + f)\n",
        "  img = img.resize(image_size)\n",
        "  img_arr = np.array(img)\n",
        "  val_images.append(img_arr)\n",
        "\n",
        "val_X = np.array(val_images)\n",
        "\n",
        "\n",
        "# reorder the labels so that they line up with the order of the image files\n",
        "train_labels = train_labels.reindex(train_files)\n",
        "val_labels = val_labels.reindex(val_files)\n"
      ],
      "execution_count": 0,
      "outputs": []
    },
    {
      "cell_type": "code",
      "metadata": {
        "id": "OCZVwT4bH6NW",
        "colab_type": "code",
        "outputId": "080883b8-1e1a-4b23-c14a-55315017e0c6",
        "colab": {
          "base_uri": "https://localhost:8080/",
          "height": 450
        }
      },
      "source": [
        "# check the train_labels\n",
        "train_labels"
      ],
      "execution_count": 0,
      "outputs": [
        {
          "output_type": "execute_result",
          "data": {
            "text/html": [
              "<div>\n",
              "<style scoped>\n",
              "    .dataframe tbody tr th:only-of-type {\n",
              "        vertical-align: middle;\n",
              "    }\n",
              "\n",
              "    .dataframe tbody tr th {\n",
              "        vertical-align: top;\n",
              "    }\n",
              "\n",
              "    .dataframe thead th {\n",
              "        text-align: right;\n",
              "    }\n",
              "</style>\n",
              "<table border=\"1\" class=\"dataframe\">\n",
              "  <thead>\n",
              "    <tr style=\"text-align: right;\">\n",
              "      <th></th>\n",
              "      <th>1</th>\n",
              "    </tr>\n",
              "    <tr>\n",
              "      <th>0</th>\n",
              "      <th></th>\n",
              "    </tr>\n",
              "  </thead>\n",
              "  <tbody>\n",
              "    <tr>\n",
              "      <th>00007740_000.png</th>\n",
              "      <td>Cardiomegaly</td>\n",
              "    </tr>\n",
              "    <tr>\n",
              "      <th>00019227_000.png</th>\n",
              "      <td>No Finding</td>\n",
              "    </tr>\n",
              "    <tr>\n",
              "      <th>00010820_000.png</th>\n",
              "      <td>No Finding</td>\n",
              "    </tr>\n",
              "    <tr>\n",
              "      <th>00022692_001.png</th>\n",
              "      <td>No Finding</td>\n",
              "    </tr>\n",
              "    <tr>\n",
              "      <th>00004893_073.png</th>\n",
              "      <td>Cardiomegaly</td>\n",
              "    </tr>\n",
              "    <tr>\n",
              "      <th>...</th>\n",
              "      <td>...</td>\n",
              "    </tr>\n",
              "    <tr>\n",
              "      <th>00028495_000.png</th>\n",
              "      <td>Cardiomegaly</td>\n",
              "    </tr>\n",
              "    <tr>\n",
              "      <th>00008990_000.png</th>\n",
              "      <td>No Finding</td>\n",
              "    </tr>\n",
              "    <tr>\n",
              "      <th>00023495_000.png</th>\n",
              "      <td>No Finding</td>\n",
              "    </tr>\n",
              "    <tr>\n",
              "      <th>00018237_032.png</th>\n",
              "      <td>No Finding</td>\n",
              "    </tr>\n",
              "    <tr>\n",
              "      <th>00006483_000.png</th>\n",
              "      <td>Cardiomegaly</td>\n",
              "    </tr>\n",
              "  </tbody>\n",
              "</table>\n",
              "<p>1750 rows × 1 columns</p>\n",
              "</div>"
            ],
            "text/plain": [
              "                             1\n",
              "0                             \n",
              "00007740_000.png  Cardiomegaly\n",
              "00019227_000.png    No Finding\n",
              "00010820_000.png    No Finding\n",
              "00022692_001.png    No Finding\n",
              "00004893_073.png  Cardiomegaly\n",
              "...                        ...\n",
              "00028495_000.png  Cardiomegaly\n",
              "00008990_000.png    No Finding\n",
              "00023495_000.png    No Finding\n",
              "00018237_032.png    No Finding\n",
              "00006483_000.png  Cardiomegaly\n",
              "\n",
              "[1750 rows x 1 columns]"
            ]
          },
          "metadata": {
            "tags": []
          },
          "execution_count": 4
        }
      ]
    },
    {
      "cell_type": "markdown",
      "metadata": {
        "id": "dJbI5c2FAmBh",
        "colab_type": "text"
      },
      "source": [
        "Let's look at an image from the training set. Notice how our resizing has created visual artifacts. You may wish to use larger images, but this will use more memory and require longer computation times during training."
      ]
    },
    {
      "cell_type": "code",
      "metadata": {
        "id": "NrcmUv25Aq0n",
        "colab_type": "code",
        "outputId": "bbc766a8-0fcd-4b0e-d5fc-83e5f303f481",
        "colab": {
          "base_uri": "https://localhost:8080/",
          "height": 268
        }
      },
      "source": [
        "import matplotlib.pyplot as plt\n",
        "plt.imshow(train_images[0], cmap='gray')\n",
        "plt.show()"
      ],
      "execution_count": 0,
      "outputs": [
        {
          "output_type": "display_data",
          "data": {
            "image/png": "[encoded data removed]",
            "text/plain": [
              "<Figure size 432x288 with 1 Axes>"
            ]
          },
          "metadata": {
            "tags": []
          }
        }
      ]
    },
    {
      "cell_type": "markdown",
      "metadata": {
        "id": "xYwTPVIc9Gma",
        "colab_type": "text"
      },
      "source": [
        "Next, convert the text labels into a binary representation."
      ]
    },
    {
      "cell_type": "code",
      "metadata": {
        "id": "txhY4gDZ3kou",
        "colab_type": "code",
        "colab": {}
      },
      "source": [
        "from sklearn.preprocessing import LabelBinarizer\n",
        "label_transformer = LabelBinarizer()\n",
        "train_y = label_transformer.fit_transform(train_labels)\n",
        "val_y = label_transformer.transform(val_labels)"
      ],
      "execution_count": 0,
      "outputs": []
    },
    {
      "cell_type": "markdown",
      "metadata": {
        "id": "2CJPdgTu_B0W",
        "colab_type": "text"
      },
      "source": [
        "Keras will expect that all images have a dimension for channels, so we will need to add that dimension."
      ]
    },
    {
      "cell_type": "code",
      "metadata": {
        "id": "-XaTSFPi_DPj",
        "colab_type": "code",
        "colab": {}
      },
      "source": [
        "# adding a dimension for channel\n",
        "train_X = np.expand_dims(train_X, 3)\n",
        "val_X = np.expand_dims(val_X, 3)"
      ],
      "execution_count": 0,
      "outputs": []
    },
    {
      "cell_type": "markdown",
      "metadata": {
        "id": "2PMqHnxrCR__",
        "colab_type": "text"
      },
      "source": [
        "Now you are ready to build your convolutional neural networks below."
      ]
    },
    {
      "cell_type": "code",
      "metadata": {
        "id": "Lqwgs0vd_5Tk",
        "colab_type": "code",
        "outputId": "aef155fc-0e4b-4436-b84a-993ee0b60a08",
        "colab": {
          "base_uri": "https://localhost:8080/",
          "height": 204
        }
      },
      "source": [
        "from tensorflow.keras.preprocessing.image import ImageDataGenerator\n",
        "from tensorflow.keras.models import Sequential\n",
        "from tensorflow.keras.layers import Dense, Dropout, Activation, Flatten\n",
        "from tensorflow.keras.layers import Conv2D, MaxPooling2D\n",
        "from tensorflow.keras import Sequential\n",
        "from tensorflow.keras.optimizers import Adam\n",
        "\n",
        "model = Sequential()\n",
        "model.add(Conv2D(filters=32, kernel_size=(3,3),input_shape=(train_X.shape[1:])))\n",
        "model.add(Conv2D(filters=32, kernel_size=(3,3)))\n",
        "model.add(MaxPooling2D(pool_size=(2, 2)))\n",
        "model.add(Flatten())\n",
        "model.add(Dense(1, activation='sigmoid'))\n",
        "\n",
        "opt = Adam(lr=0.001)\n",
        "\n",
        "model.compile(optimizer=opt, loss='binary_crossentropy', metrics=['accuracy'])\n",
        "\n",
        "model.fit(train_X, train_y, validation_data=(val_X,val_y), epochs=5, batch_size=32)"
      ],
      "execution_count": 0,
      "outputs": [
        {
          "output_type": "stream",
          "text": [
            "Epoch 1/5\n",
            "55/55 [==============================] - 1s 21ms/step - loss: 65.2871 - accuracy: 0.5543 - val_loss: 3.2558 - val_accuracy: 0.5881\n",
            "Epoch 2/5\n",
            "55/55 [==============================] - 1s 15ms/step - loss: 1.6985 - accuracy: 0.6943 - val_loss: 1.8634 - val_accuracy: 0.6613\n",
            "Epoch 3/5\n",
            "55/55 [==============================] - 1s 15ms/step - loss: 0.7356 - accuracy: 0.7829 - val_loss: 1.3112 - val_accuracy: 0.6819\n",
            "Epoch 4/5\n",
            "55/55 [==============================] - 1s 15ms/step - loss: 0.3733 - accuracy: 0.8634 - val_loss: 1.3434 - val_accuracy: 0.6636\n",
            "Epoch 5/5\n",
            "55/55 [==============================] - 1s 15ms/step - loss: 0.2291 - accuracy: 0.9074 - val_loss: 1.3430 - val_accuracy: 0.6705\n"
          ],
          "name": "stdout"
        },
        {
          "output_type": "execute_result",
          "data": {
            "text/plain": [
              "<tensorflow.python.keras.callbacks.History at 0x7efd2013dba8>"
            ]
          },
          "metadata": {
            "tags": []
          },
          "execution_count": 8
        }
      ]
    }
  ]
}